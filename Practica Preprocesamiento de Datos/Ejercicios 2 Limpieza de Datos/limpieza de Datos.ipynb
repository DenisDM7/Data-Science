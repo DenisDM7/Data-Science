{
  "cells": [
    {
      "cell_type": "markdown",
      "metadata": {
        "id": "8WRn9dKlBG2G"
      },
      "source": [
        "# Ejercicio de limpieza de datos"
      ]
    },
    {
      "cell_type": "markdown",
      "metadata": {
        "id": "uXAdfbPMtThk"
      },
      "source": [
        "Ahora si, comencemos con la limpieza de datos:"
      ]
    },
    {
      "cell_type": "code",
      "execution_count": 2,
      "metadata": {
        "id": "1RtkQRimtSLT"
      },
      "outputs": [],
      "source": [
        "#primero vamos a importar la librería que usaremos para este ejercicio\n",
        "import pandas as pd\n",
        "import warnings\n",
        "warnings.simplefilter(\"ignore\")"
      ]
    },
    {
      "cell_type": "code",
      "execution_count": 3,
      "metadata": {
        "colab": {
          "base_uri": "https://localhost:8080/",
          "height": 311
        },
        "id": "O0b9WmjttVPA",
        "outputId": "030f47e7-024d-49a8-d16e-7817e08ecbc5"
      },
      "outputs": [
        {
          "ename": "ValueError",
          "evalue": "Expected object or value",
          "output_type": "error",
          "traceback": [
            "\u001b[1;31m---------------------------------------------------------------------------\u001b[0m",
            "\u001b[1;31mValueError\u001b[0m                                Traceback (most recent call last)",
            "\u001b[1;32mc:\\Users\\Lenovo\\proyectos\\Data Science\\Practica Preprocesamiento de Datos\\Ejercicios 2 Limpieza de Datos\\Python_inicial_Data_Cleaning.ipynb Celda 4\u001b[0m in \u001b[0;36m<cell line: 1>\u001b[1;34m()\u001b[0m\n\u001b[1;32m----> <a href='vscode-notebook-cell:/c%3A/Users/Lenovo/proyectos/Data%20Science/Practica%20Preprocesamiento%20de%20Datos/Ejercicios%202%20Limpieza%20de%20Datos/Python_inicial_Data_Cleaning.ipynb#X13sZmlsZQ%3D%3D?line=0'>1</a>\u001b[0m datos_raw\u001b[39m=\u001b[39mpd\u001b[39m.\u001b[39;49mread_json(\u001b[39m'\u001b[39;49m\u001b[39m/content/new_york_times_bestsellers-exercise.json\u001b[39;49m\u001b[39m'\u001b[39;49m)\n",
            "File \u001b[1;32mc:\\Users\\Lenovo\\anaconda3\\lib\\site-packages\\pandas\\util\\_decorators.py:207\u001b[0m, in \u001b[0;36mdeprecate_kwarg.<locals>._deprecate_kwarg.<locals>.wrapper\u001b[1;34m(*args, **kwargs)\u001b[0m\n\u001b[0;32m    205\u001b[0m     \u001b[39melse\u001b[39;00m:\n\u001b[0;32m    206\u001b[0m         kwargs[new_arg_name] \u001b[39m=\u001b[39m new_arg_value\n\u001b[1;32m--> 207\u001b[0m \u001b[39mreturn\u001b[39;00m func(\u001b[39m*\u001b[39margs, \u001b[39m*\u001b[39m\u001b[39m*\u001b[39mkwargs)\n",
            "File \u001b[1;32mc:\\Users\\Lenovo\\anaconda3\\lib\\site-packages\\pandas\\util\\_decorators.py:311\u001b[0m, in \u001b[0;36mdeprecate_nonkeyword_arguments.<locals>.decorate.<locals>.wrapper\u001b[1;34m(*args, **kwargs)\u001b[0m\n\u001b[0;32m    305\u001b[0m \u001b[39mif\u001b[39;00m \u001b[39mlen\u001b[39m(args) \u001b[39m>\u001b[39m num_allow_args:\n\u001b[0;32m    306\u001b[0m     warnings\u001b[39m.\u001b[39mwarn(\n\u001b[0;32m    307\u001b[0m         msg\u001b[39m.\u001b[39mformat(arguments\u001b[39m=\u001b[39marguments),\n\u001b[0;32m    308\u001b[0m         \u001b[39mFutureWarning\u001b[39;00m,\n\u001b[0;32m    309\u001b[0m         stacklevel\u001b[39m=\u001b[39mstacklevel,\n\u001b[0;32m    310\u001b[0m     )\n\u001b[1;32m--> 311\u001b[0m \u001b[39mreturn\u001b[39;00m func(\u001b[39m*\u001b[39margs, \u001b[39m*\u001b[39m\u001b[39m*\u001b[39mkwargs)\n",
            "File \u001b[1;32mc:\\Users\\Lenovo\\anaconda3\\lib\\site-packages\\pandas\\io\\json\\_json.py:612\u001b[0m, in \u001b[0;36mread_json\u001b[1;34m(path_or_buf, orient, typ, dtype, convert_axes, convert_dates, keep_default_dates, numpy, precise_float, date_unit, encoding, encoding_errors, lines, chunksize, compression, nrows, storage_options)\u001b[0m\n\u001b[0;32m    609\u001b[0m     \u001b[39mreturn\u001b[39;00m json_reader\n\u001b[0;32m    611\u001b[0m \u001b[39mwith\u001b[39;00m json_reader:\n\u001b[1;32m--> 612\u001b[0m     \u001b[39mreturn\u001b[39;00m json_reader\u001b[39m.\u001b[39;49mread()\n",
            "File \u001b[1;32mc:\\Users\\Lenovo\\anaconda3\\lib\\site-packages\\pandas\\io\\json\\_json.py:746\u001b[0m, in \u001b[0;36mJsonReader.read\u001b[1;34m(self)\u001b[0m\n\u001b[0;32m    744\u001b[0m         obj \u001b[39m=\u001b[39m \u001b[39mself\u001b[39m\u001b[39m.\u001b[39m_get_object_parser(\u001b[39mself\u001b[39m\u001b[39m.\u001b[39m_combine_lines(data_lines))\n\u001b[0;32m    745\u001b[0m \u001b[39melse\u001b[39;00m:\n\u001b[1;32m--> 746\u001b[0m     obj \u001b[39m=\u001b[39m \u001b[39mself\u001b[39;49m\u001b[39m.\u001b[39;49m_get_object_parser(\u001b[39mself\u001b[39;49m\u001b[39m.\u001b[39;49mdata)\n\u001b[0;32m    747\u001b[0m \u001b[39mself\u001b[39m\u001b[39m.\u001b[39mclose()\n\u001b[0;32m    748\u001b[0m \u001b[39mreturn\u001b[39;00m obj\n",
            "File \u001b[1;32mc:\\Users\\Lenovo\\anaconda3\\lib\\site-packages\\pandas\\io\\json\\_json.py:768\u001b[0m, in \u001b[0;36mJsonReader._get_object_parser\u001b[1;34m(self, json)\u001b[0m\n\u001b[0;32m    766\u001b[0m obj \u001b[39m=\u001b[39m \u001b[39mNone\u001b[39;00m\n\u001b[0;32m    767\u001b[0m \u001b[39mif\u001b[39;00m typ \u001b[39m==\u001b[39m \u001b[39m\"\u001b[39m\u001b[39mframe\u001b[39m\u001b[39m\"\u001b[39m:\n\u001b[1;32m--> 768\u001b[0m     obj \u001b[39m=\u001b[39m FrameParser(json, \u001b[39m*\u001b[39;49m\u001b[39m*\u001b[39;49mkwargs)\u001b[39m.\u001b[39;49mparse()\n\u001b[0;32m    770\u001b[0m \u001b[39mif\u001b[39;00m typ \u001b[39m==\u001b[39m \u001b[39m\"\u001b[39m\u001b[39mseries\u001b[39m\u001b[39m\"\u001b[39m \u001b[39mor\u001b[39;00m obj \u001b[39mis\u001b[39;00m \u001b[39mNone\u001b[39;00m:\n\u001b[0;32m    771\u001b[0m     \u001b[39mif\u001b[39;00m \u001b[39mnot\u001b[39;00m \u001b[39misinstance\u001b[39m(dtype, \u001b[39mbool\u001b[39m):\n",
            "File \u001b[1;32mc:\\Users\\Lenovo\\anaconda3\\lib\\site-packages\\pandas\\io\\json\\_json.py:880\u001b[0m, in \u001b[0;36mParser.parse\u001b[1;34m(self)\u001b[0m\n\u001b[0;32m    878\u001b[0m     \u001b[39mself\u001b[39m\u001b[39m.\u001b[39m_parse_numpy()\n\u001b[0;32m    879\u001b[0m \u001b[39melse\u001b[39;00m:\n\u001b[1;32m--> 880\u001b[0m     \u001b[39mself\u001b[39;49m\u001b[39m.\u001b[39;49m_parse_no_numpy()\n\u001b[0;32m    882\u001b[0m \u001b[39mif\u001b[39;00m \u001b[39mself\u001b[39m\u001b[39m.\u001b[39mobj \u001b[39mis\u001b[39;00m \u001b[39mNone\u001b[39;00m:\n\u001b[0;32m    883\u001b[0m     \u001b[39mreturn\u001b[39;00m \u001b[39mNone\u001b[39;00m\n",
            "File \u001b[1;32mc:\\Users\\Lenovo\\anaconda3\\lib\\site-packages\\pandas\\io\\json\\_json.py:1133\u001b[0m, in \u001b[0;36mFrameParser._parse_no_numpy\u001b[1;34m(self)\u001b[0m\n\u001b[0;32m   1129\u001b[0m orient \u001b[39m=\u001b[39m \u001b[39mself\u001b[39m\u001b[39m.\u001b[39morient\n\u001b[0;32m   1131\u001b[0m \u001b[39mif\u001b[39;00m orient \u001b[39m==\u001b[39m \u001b[39m\"\u001b[39m\u001b[39mcolumns\u001b[39m\u001b[39m\"\u001b[39m:\n\u001b[0;32m   1132\u001b[0m     \u001b[39mself\u001b[39m\u001b[39m.\u001b[39mobj \u001b[39m=\u001b[39m DataFrame(\n\u001b[1;32m-> 1133\u001b[0m         loads(json, precise_float\u001b[39m=\u001b[39;49m\u001b[39mself\u001b[39;49m\u001b[39m.\u001b[39;49mprecise_float), dtype\u001b[39m=\u001b[39m\u001b[39mNone\u001b[39;00m\n\u001b[0;32m   1134\u001b[0m     )\n\u001b[0;32m   1135\u001b[0m \u001b[39melif\u001b[39;00m orient \u001b[39m==\u001b[39m \u001b[39m\"\u001b[39m\u001b[39msplit\u001b[39m\u001b[39m\"\u001b[39m:\n\u001b[0;32m   1136\u001b[0m     decoded \u001b[39m=\u001b[39m {\n\u001b[0;32m   1137\u001b[0m         \u001b[39mstr\u001b[39m(k): v\n\u001b[0;32m   1138\u001b[0m         \u001b[39mfor\u001b[39;00m k, v \u001b[39min\u001b[39;00m loads(json, precise_float\u001b[39m=\u001b[39m\u001b[39mself\u001b[39m\u001b[39m.\u001b[39mprecise_float)\u001b[39m.\u001b[39mitems()\n\u001b[0;32m   1139\u001b[0m     }\n",
            "\u001b[1;31mValueError\u001b[0m: Expected object or value"
          ]
        }
      ],
      "source": [
        "datos_raw=pd.read_json('/content/new_york_times_bestsellers-exercise.json')"
      ]
    },
    {
      "cell_type": "markdown",
      "metadata": {
        "id": "s0NkMpuG6Vi8"
      },
      "source": [
        "Ya con nuestro data frame creado, vamos a realizar primeramente un pequeño análisis exploratorio"
      ]
    },
    {
      "cell_type": "code",
      "execution_count": null,
      "metadata": {
        "colab": {
          "base_uri": "https://localhost:8080/",
          "height": 459
        },
        "id": "CZbG4Ju35mdX",
        "outputId": "81f22eef-dbe9-4812-d20a-b9927289f825"
      },
      "outputs": [
        {
          "data": {
            "text/html": [
              "<div>\n",
              "<style scoped>\n",
              "    .dataframe tbody tr th:only-of-type {\n",
              "        vertical-align: middle;\n",
              "    }\n",
              "\n",
              "    .dataframe tbody tr th {\n",
              "        vertical-align: top;\n",
              "    }\n",
              "\n",
              "    .dataframe thead th {\n",
              "        text-align: right;\n",
              "    }\n",
              "</style>\n",
              "<table border=\"1\" class=\"dataframe\">\n",
              "  <thead>\n",
              "    <tr style=\"text-align: right;\">\n",
              "      <th></th>\n",
              "      <th>amazon_product_url</th>\n",
              "      <th>author</th>\n",
              "      <th>description</th>\n",
              "      <th>publisher</th>\n",
              "      <th>title</th>\n",
              "      <th>oid</th>\n",
              "      <th>bestsellers_date</th>\n",
              "      <th>published_date.numberLong</th>\n",
              "      <th>rank</th>\n",
              "      <th>rank_last_week</th>\n",
              "      <th>weeks_on_list</th>\n",
              "      <th>price</th>\n",
              "    </tr>\n",
              "  </thead>\n",
              "  <tbody>\n",
              "    <tr>\n",
              "      <th>0</th>\n",
              "      <td>http://www.amazon.com/Robert-B-Parkers-Lullaby...</td>\n",
              "      <td>Ace Atkins</td>\n",
              "      <td>Descr: Spenser helps a girl investigate her mo...</td>\n",
              "      <td>Putnam</td>\n",
              "      <td>ROBERT B. PARKER’S LULLABY</td>\n",
              "      <td>5b4aa4ead3089013507dc1a8</td>\n",
              "      <td>05/05/12</td>\n",
              "      <td>01/13/12</td>\n",
              "      <td>6</td>\n",
              "      <td>0</td>\n",
              "      <td>1</td>\n",
              "      <td>26.95</td>\n",
              "    </tr>\n",
              "    <tr>\n",
              "      <th>1</th>\n",
              "      <td>http://www.amazon.com/Robert-B-Parkers-Lullaby...</td>\n",
              "      <td>Ace Atkins</td>\n",
              "      <td>Descr: Spenser helps a girl investigate her mo...</td>\n",
              "      <td>Putnam</td>\n",
              "      <td>ROBERT B. PARKER’S LULLABY</td>\n",
              "      <td>5b4aa4ead3089013507dc1c2</td>\n",
              "      <td>05/12/12</td>\n",
              "      <td>10/23/11</td>\n",
              "      <td>12</td>\n",
              "      <td>6</td>\n",
              "      <td>2</td>\n",
              "      <td>26.95</td>\n",
              "    </tr>\n",
              "    <tr>\n",
              "      <th>2</th>\n",
              "      <td>http://www.amazon.com/Robert-B-Parkers-Lullaby...</td>\n",
              "      <td>Ace Atkins</td>\n",
              "      <td>Descr: Spenser helps a girl investigate her mo...</td>\n",
              "      <td>Putnam</td>\n",
              "      <td>ROBERT B. PARKER’S LULLABY</td>\n",
              "      <td>5b4aa4ead3089013507dc1da</td>\n",
              "      <td>05/19/12</td>\n",
              "      <td>01/31/12</td>\n",
              "      <td>16</td>\n",
              "      <td>12</td>\n",
              "      <td>3</td>\n",
              "      <td>26.95</td>\n",
              "    </tr>\n",
              "    <tr>\n",
              "      <th>3</th>\n",
              "      <td>http://www.amazon.com/Very-Valentine-Novel-Adr...</td>\n",
              "      <td>Adriana Trigiani</td>\n",
              "      <td>Descr: An Italian-American shoemaker and her g...</td>\n",
              "      <td>Harper</td>\n",
              "      <td>VERY VALENTINE</td>\n",
              "      <td>5b4aa4ead3089013507db477</td>\n",
              "      <td>02/07/09</td>\n",
              "      <td>01/07/09</td>\n",
              "      <td>9</td>\n",
              "      <td>0</td>\n",
              "      <td>1</td>\n",
              "      <td>25.99</td>\n",
              "    </tr>\n",
              "    <tr>\n",
              "      <th>4</th>\n",
              "      <td>http://www.amazon.com/Very-Valentine-Novel-Adr...</td>\n",
              "      <td>Adriana Trigiani</td>\n",
              "      <td>Descr: An Italian-American shoemaker and her g...</td>\n",
              "      <td>Harper</td>\n",
              "      <td>VERY VALENTINE</td>\n",
              "      <td>5b4aa4ead3089013507db48c</td>\n",
              "      <td>02/14/09</td>\n",
              "      <td>05/25/08</td>\n",
              "      <td>10</td>\n",
              "      <td>9</td>\n",
              "      <td>2</td>\n",
              "      <td>NaN</td>\n",
              "    </tr>\n",
              "  </tbody>\n",
              "</table>\n",
              "</div>"
            ],
            "text/plain": [
              "                                  amazon_product_url  ...  price\n",
              "0  http://www.amazon.com/Robert-B-Parkers-Lullaby...  ...  26.95\n",
              "1  http://www.amazon.com/Robert-B-Parkers-Lullaby...  ...  26.95\n",
              "2  http://www.amazon.com/Robert-B-Parkers-Lullaby...  ...  26.95\n",
              "3  http://www.amazon.com/Very-Valentine-Novel-Adr...  ...  25.99\n",
              "4  http://www.amazon.com/Very-Valentine-Novel-Adr...  ...    NaN\n",
              "\n",
              "[5 rows x 12 columns]"
            ]
          },
          "execution_count": 6,
          "metadata": {},
          "output_type": "execute_result"
        }
      ],
      "source": [
        "#Démosle un primer vistazo a nuestra tabla de datos\n",
        "datos_raw.head()"
      ]
    },
    {
      "cell_type": "code",
      "execution_count": null,
      "metadata": {
        "colab": {
          "base_uri": "https://localhost:8080/"
        },
        "id": "8lRRsRYH7jy1",
        "outputId": "0a753552-af53-4d52-9cbf-407602c6362d"
      },
      "outputs": [
        {
          "data": {
            "text/plain": [
              "(2266, 12)"
            ]
          },
          "execution_count": 7,
          "metadata": {},
          "output_type": "execute_result"
        }
      ],
      "source": [
        "#Ahora consultemos el tamaño de la tabla\n",
        "datos_raw.shape"
      ]
    },
    {
      "cell_type": "code",
      "execution_count": null,
      "metadata": {
        "colab": {
          "base_uri": "https://localhost:8080/"
        },
        "id": "zgnXJkSyA9FP",
        "outputId": "784e9a10-a5b5-4495-aa38-b510da302176"
      },
      "outputs": [
        {
          "data": {
            "text/plain": [
              "Index(['amazon_product_url', 'author', 'description', 'publisher', 'title',\n",
              "       'oid', 'bestsellers_date', 'published_date.numberLong', 'rank',\n",
              "       'rank_last_week', 'weeks_on_list', 'price'],\n",
              "      dtype='object')"
            ]
          },
          "execution_count": 8,
          "metadata": {},
          "output_type": "execute_result"
        }
      ],
      "source": [
        "#Las columnas de la tabla\n",
        "datos_raw.columns"
      ]
    },
    {
      "cell_type": "code",
      "execution_count": null,
      "metadata": {
        "colab": {
          "base_uri": "https://localhost:8080/"
        },
        "id": "BW-M1XsNAqeZ",
        "outputId": "7eddad0a-17ee-42db-bde2-d7bbd4926315"
      },
      "outputs": [
        {
          "data": {
            "text/plain": [
              "amazon_product_url            object\n",
              "author                        object\n",
              "description                   object\n",
              "publisher                     object\n",
              "title                         object\n",
              "oid                           object\n",
              "bestsellers_date              object\n",
              "published_date.numberLong     object\n",
              "rank                          object\n",
              "rank_last_week                 int64\n",
              "weeks_on_list                  int64\n",
              "price                        float64\n",
              "dtype: object"
            ]
          },
          "execution_count": 9,
          "metadata": {},
          "output_type": "execute_result"
        }
      ],
      "source": [
        "#Los tipos de datos de cada columna\n",
        "datos_raw.dtypes"
      ]
    },
    {
      "cell_type": "markdown",
      "metadata": {
        "id": "VzMs883DBQa2"
      },
      "source": [
        "Algo bastante útil que se puede hacer en este punto es seleccionar las columnas que queremos utilizar para nuestro proyecto."
      ]
    },
    {
      "cell_type": "code",
      "execution_count": null,
      "metadata": {
        "colab": {
          "base_uri": "https://localhost:8080/",
          "height": 204
        },
        "id": "brjvFOcAA0g9",
        "outputId": "28c9223d-f4f5-4bb5-a7ca-15f3e919fcbd"
      },
      "outputs": [
        {
          "data": {
            "text/html": [
              "<div>\n",
              "<style scoped>\n",
              "    .dataframe tbody tr th:only-of-type {\n",
              "        vertical-align: middle;\n",
              "    }\n",
              "\n",
              "    .dataframe tbody tr th {\n",
              "        vertical-align: top;\n",
              "    }\n",
              "\n",
              "    .dataframe thead th {\n",
              "        text-align: right;\n",
              "    }\n",
              "</style>\n",
              "<table border=\"1\" class=\"dataframe\">\n",
              "  <thead>\n",
              "    <tr style=\"text-align: right;\">\n",
              "      <th></th>\n",
              "      <th>author</th>\n",
              "      <th>title</th>\n",
              "      <th>rank</th>\n",
              "      <th>price</th>\n",
              "    </tr>\n",
              "  </thead>\n",
              "  <tbody>\n",
              "    <tr>\n",
              "      <th>0</th>\n",
              "      <td>Ace Atkins</td>\n",
              "      <td>ROBERT B. PARKER’S LULLABY</td>\n",
              "      <td>6</td>\n",
              "      <td>26.95</td>\n",
              "    </tr>\n",
              "    <tr>\n",
              "      <th>1</th>\n",
              "      <td>Ace Atkins</td>\n",
              "      <td>ROBERT B. PARKER’S LULLABY</td>\n",
              "      <td>12</td>\n",
              "      <td>26.95</td>\n",
              "    </tr>\n",
              "    <tr>\n",
              "      <th>2</th>\n",
              "      <td>Ace Atkins</td>\n",
              "      <td>ROBERT B. PARKER’S LULLABY</td>\n",
              "      <td>16</td>\n",
              "      <td>26.95</td>\n",
              "    </tr>\n",
              "    <tr>\n",
              "      <th>3</th>\n",
              "      <td>Adriana Trigiani</td>\n",
              "      <td>VERY VALENTINE</td>\n",
              "      <td>9</td>\n",
              "      <td>25.99</td>\n",
              "    </tr>\n",
              "    <tr>\n",
              "      <th>4</th>\n",
              "      <td>Adriana Trigiani</td>\n",
              "      <td>VERY VALENTINE</td>\n",
              "      <td>10</td>\n",
              "      <td>NaN</td>\n",
              "    </tr>\n",
              "  </tbody>\n",
              "</table>\n",
              "</div>"
            ],
            "text/plain": [
              "             author                       title rank  price\n",
              "0        Ace Atkins  ROBERT B. PARKER’S LULLABY    6  26.95\n",
              "1        Ace Atkins  ROBERT B. PARKER’S LULLABY   12  26.95\n",
              "2        Ace Atkins  ROBERT B. PARKER’S LULLABY   16  26.95\n",
              "3  Adriana Trigiani              VERY VALENTINE    9  25.99\n",
              "4  Adriana Trigiani              VERY VALENTINE   10    NaN"
            ]
          },
          "execution_count": 10,
          "metadata": {},
          "output_type": "execute_result"
        }
      ],
      "source": [
        "#Veamos en este ejemplo una tabla en la que me interesa tener los autores de los libros, el título del libro, su ranking y su precio\n",
        "df = datos_raw[['author','title','rank','price']]\n",
        "df.head()"
      ]
    },
    {
      "attachments": {},
      "cell_type": "markdown",
      "metadata": {},
      "source": [
        "en el indice 4 hay un valor NAN asi que contemos los valores nan de cada columna, con el siguiente codigo"
      ]
    },
    {
      "cell_type": "code",
      "execution_count": null,
      "metadata": {
        "colab": {
          "base_uri": "https://localhost:8080/"
        },
        "id": "NSAWvjeAB-di",
        "outputId": "ca609242-1d80-486c-c916-82fe1cb2c004"
      },
      "outputs": [
        {
          "data": {
            "text/plain": [
              "author      0\n",
              "title       0\n",
              "rank        0\n",
              "price     202\n",
              "dtype: int64"
            ]
          },
          "execution_count": 11,
          "metadata": {},
          "output_type": "execute_result"
        }
      ],
      "source": [
        "df.isna().sum(axis=0)"
      ]
    },
    {
      "attachments": {},
      "cell_type": "markdown",
      "metadata": {
        "id": "8xSwYRdFUNoA"
      },
      "source": [
        "Eliminación de los valores NAN"
      ]
    },
    {
      "cell_type": "code",
      "execution_count": null,
      "metadata": {
        "id": "aLj8zOT7SbO4"
      },
      "outputs": [],
      "source": [
        "df_drop=df.dropna(axis=0,how='any')"
      ]
    },
    {
      "cell_type": "code",
      "execution_count": null,
      "metadata": {
        "colab": {
          "base_uri": "https://localhost:8080/"
        },
        "id": "YmgYUnDgSrBh",
        "outputId": "2583e8a0-3a50-4645-e4ca-3e937d156fc5"
      },
      "outputs": [
        {
          "data": {
            "text/plain": [
              "author    0\n",
              "title     0\n",
              "rank      0\n",
              "price     0\n",
              "dtype: int64"
            ]
          },
          "execution_count": 13,
          "metadata": {},
          "output_type": "execute_result"
        }
      ],
      "source": [
        "df_drop.isna().sum(axis=0)"
      ]
    },
    {
      "cell_type": "code",
      "execution_count": null,
      "metadata": {
        "colab": {
          "base_uri": "https://localhost:8080/",
          "height": 204
        },
        "id": "-8Mj-7zNi3SN",
        "outputId": "2b4bc3e0-2cda-4651-ed77-bf0e50d804a3"
      },
      "outputs": [
        {
          "data": {
            "text/html": [
              "<div>\n",
              "<style scoped>\n",
              "    .dataframe tbody tr th:only-of-type {\n",
              "        vertical-align: middle;\n",
              "    }\n",
              "\n",
              "    .dataframe tbody tr th {\n",
              "        vertical-align: top;\n",
              "    }\n",
              "\n",
              "    .dataframe thead th {\n",
              "        text-align: right;\n",
              "    }\n",
              "</style>\n",
              "<table border=\"1\" class=\"dataframe\">\n",
              "  <thead>\n",
              "    <tr style=\"text-align: right;\">\n",
              "      <th></th>\n",
              "      <th>author</th>\n",
              "      <th>title</th>\n",
              "      <th>rank</th>\n",
              "      <th>price</th>\n",
              "    </tr>\n",
              "  </thead>\n",
              "  <tbody>\n",
              "    <tr>\n",
              "      <th>0</th>\n",
              "      <td>Ace Atkins</td>\n",
              "      <td>ROBERT B. PARKER’S LULLABY</td>\n",
              "      <td>6</td>\n",
              "      <td>26.95</td>\n",
              "    </tr>\n",
              "    <tr>\n",
              "      <th>1</th>\n",
              "      <td>Ace Atkins</td>\n",
              "      <td>ROBERT B. PARKER’S LULLABY</td>\n",
              "      <td>12</td>\n",
              "      <td>26.95</td>\n",
              "    </tr>\n",
              "    <tr>\n",
              "      <th>2</th>\n",
              "      <td>Ace Atkins</td>\n",
              "      <td>ROBERT B. PARKER’S LULLABY</td>\n",
              "      <td>16</td>\n",
              "      <td>26.95</td>\n",
              "    </tr>\n",
              "    <tr>\n",
              "      <th>3</th>\n",
              "      <td>Adriana Trigiani</td>\n",
              "      <td>VERY VALENTINE</td>\n",
              "      <td>9</td>\n",
              "      <td>25.99</td>\n",
              "    </tr>\n",
              "    <tr>\n",
              "      <th>6</th>\n",
              "      <td>Adriana Trigiani</td>\n",
              "      <td>BRAVA, VALENTINE</td>\n",
              "      <td>7</td>\n",
              "      <td>25.99</td>\n",
              "    </tr>\n",
              "  </tbody>\n",
              "</table>\n",
              "</div>"
            ],
            "text/plain": [
              "             author                       title rank  price\n",
              "0        Ace Atkins  ROBERT B. PARKER’S LULLABY    6  26.95\n",
              "1        Ace Atkins  ROBERT B. PARKER’S LULLABY   12  26.95\n",
              "2        Ace Atkins  ROBERT B. PARKER’S LULLABY   16  26.95\n",
              "3  Adriana Trigiani              VERY VALENTINE    9  25.99\n",
              "6  Adriana Trigiani            BRAVA, VALENTINE    7  25.99"
            ]
          },
          "execution_count": 15,
          "metadata": {},
          "output_type": "execute_result"
        }
      ],
      "source": [
        "df_drop.head()"
      ]
    },
    {
      "attachments": {},
      "cell_type": "markdown",
      "metadata": {
        "id": "U1gFwm4dUQgl"
      },
      "source": [
        "otra forma de tratar los valores NAN es Reemplazarlos con la media:"
      ]
    },
    {
      "cell_type": "code",
      "execution_count": null,
      "metadata": {
        "colab": {
          "base_uri": "https://localhost:8080/"
        },
        "id": "Y2qraV47U9J1",
        "outputId": "a3b85575-5664-4fc2-a555-4325a4e7d621"
      },
      "outputs": [
        {
          "data": {
            "text/plain": [
              "26.75029069767371"
            ]
          },
          "execution_count": 16,
          "metadata": {},
          "output_type": "execute_result"
        }
      ],
      "source": [
        "df['price'].mean()"
      ]
    },
    {
      "cell_type": "code",
      "execution_count": null,
      "metadata": {
        "id": "beRFz4EqSssW"
      },
      "outputs": [],
      "source": [
        "df['price']=df['price'].fillna(df['price'].mean())"
      ]
    },
    {
      "cell_type": "code",
      "execution_count": null,
      "metadata": {
        "colab": {
          "base_uri": "https://localhost:8080/",
          "height": 204
        },
        "id": "MV7psvsqTBKC",
        "outputId": "094f1d63-29b1-4548-cee5-0fe8d9b245b0"
      },
      "outputs": [
        {
          "data": {
            "text/html": [
              "<div>\n",
              "<style scoped>\n",
              "    .dataframe tbody tr th:only-of-type {\n",
              "        vertical-align: middle;\n",
              "    }\n",
              "\n",
              "    .dataframe tbody tr th {\n",
              "        vertical-align: top;\n",
              "    }\n",
              "\n",
              "    .dataframe thead th {\n",
              "        text-align: right;\n",
              "    }\n",
              "</style>\n",
              "<table border=\"1\" class=\"dataframe\">\n",
              "  <thead>\n",
              "    <tr style=\"text-align: right;\">\n",
              "      <th></th>\n",
              "      <th>author</th>\n",
              "      <th>title</th>\n",
              "      <th>rank</th>\n",
              "      <th>price</th>\n",
              "    </tr>\n",
              "  </thead>\n",
              "  <tbody>\n",
              "    <tr>\n",
              "      <th>0</th>\n",
              "      <td>Ace Atkins</td>\n",
              "      <td>ROBERT B. PARKER’S LULLABY</td>\n",
              "      <td>6</td>\n",
              "      <td>26.950000</td>\n",
              "    </tr>\n",
              "    <tr>\n",
              "      <th>1</th>\n",
              "      <td>Ace Atkins</td>\n",
              "      <td>ROBERT B. PARKER’S LULLABY</td>\n",
              "      <td>12</td>\n",
              "      <td>26.950000</td>\n",
              "    </tr>\n",
              "    <tr>\n",
              "      <th>2</th>\n",
              "      <td>Ace Atkins</td>\n",
              "      <td>ROBERT B. PARKER’S LULLABY</td>\n",
              "      <td>16</td>\n",
              "      <td>26.950000</td>\n",
              "    </tr>\n",
              "    <tr>\n",
              "      <th>3</th>\n",
              "      <td>Adriana Trigiani</td>\n",
              "      <td>VERY VALENTINE</td>\n",
              "      <td>9</td>\n",
              "      <td>25.990000</td>\n",
              "    </tr>\n",
              "    <tr>\n",
              "      <th>4</th>\n",
              "      <td>Adriana Trigiani</td>\n",
              "      <td>VERY VALENTINE</td>\n",
              "      <td>10</td>\n",
              "      <td>26.750291</td>\n",
              "    </tr>\n",
              "  </tbody>\n",
              "</table>\n",
              "</div>"
            ],
            "text/plain": [
              "             author                       title rank      price\n",
              "0        Ace Atkins  ROBERT B. PARKER’S LULLABY    6  26.950000\n",
              "1        Ace Atkins  ROBERT B. PARKER’S LULLABY   12  26.950000\n",
              "2        Ace Atkins  ROBERT B. PARKER’S LULLABY   16  26.950000\n",
              "3  Adriana Trigiani              VERY VALENTINE    9  25.990000\n",
              "4  Adriana Trigiani              VERY VALENTINE   10  26.750291"
            ]
          },
          "execution_count": 18,
          "metadata": {},
          "output_type": "execute_result"
        }
      ],
      "source": [
        "df.head()"
      ]
    },
    {
      "cell_type": "markdown",
      "metadata": {
        "id": "z9F-4DXPWIgN"
      },
      "source": [
        "Ahora hagamos un pequeño cálculo con nuestra tabla preparada:"
      ]
    },
    {
      "cell_type": "code",
      "execution_count": null,
      "metadata": {
        "colab": {
          "base_uri": "https://localhost:8080/",
          "height": 235
        },
        "id": "MTZ4-U5XWIGf",
        "outputId": "b7ad5d5b-af0e-4e1f-880e-14f36a5041f7"
      },
      "outputs": [
        {
          "data": {
            "text/html": [
              "<div>\n",
              "<style scoped>\n",
              "    .dataframe tbody tr th:only-of-type {\n",
              "        vertical-align: middle;\n",
              "    }\n",
              "\n",
              "    .dataframe tbody tr th {\n",
              "        vertical-align: top;\n",
              "    }\n",
              "\n",
              "    .dataframe thead th {\n",
              "        text-align: right;\n",
              "    }\n",
              "</style>\n",
              "<table border=\"1\" class=\"dataframe\">\n",
              "  <thead>\n",
              "    <tr style=\"text-align: right;\">\n",
              "      <th></th>\n",
              "      <th>mean</th>\n",
              "    </tr>\n",
              "    <tr>\n",
              "      <th>author</th>\n",
              "      <th></th>\n",
              "    </tr>\n",
              "  </thead>\n",
              "  <tbody>\n",
              "    <tr>\n",
              "      <th>Ace Atkins</th>\n",
              "      <td>26.950000</td>\n",
              "    </tr>\n",
              "    <tr>\n",
              "      <th>Adriana Trigiani</th>\n",
              "      <td>26.660097</td>\n",
              "    </tr>\n",
              "    <tr>\n",
              "      <th>Aimee Bender</th>\n",
              "      <td>25.950000</td>\n",
              "    </tr>\n",
              "    <tr>\n",
              "      <th>Albert Brooks</th>\n",
              "      <td>26.243430</td>\n",
              "    </tr>\n",
              "    <tr>\n",
              "      <th>Alex Berenson</th>\n",
              "      <td>26.583382</td>\n",
              "    </tr>\n",
              "  </tbody>\n",
              "</table>\n",
              "</div>"
            ],
            "text/plain": [
              "                       mean\n",
              "author                     \n",
              "Ace Atkins        26.950000\n",
              "Adriana Trigiani  26.660097\n",
              "Aimee Bender      25.950000\n",
              "Albert Brooks     26.243430\n",
              "Alex Berenson     26.583382"
            ]
          },
          "execution_count": 19,
          "metadata": {},
          "output_type": "execute_result"
        }
      ],
      "source": [
        "df_group=df.groupby('author')['price'].agg(['mean'])\n",
        "df_group.head()"
      ]
    },
    {
      "cell_type": "code",
      "execution_count": null,
      "metadata": {
        "colab": {
          "base_uri": "https://localhost:8080/",
          "height": 235
        },
        "id": "JO_DrOt8WUoT",
        "outputId": "a49c126d-4b35-4a79-d02d-eb2a04390453"
      },
      "outputs": [
        {
          "data": {
            "text/html": [
              "<div>\n",
              "<style scoped>\n",
              "    .dataframe tbody tr th:only-of-type {\n",
              "        vertical-align: middle;\n",
              "    }\n",
              "\n",
              "    .dataframe tbody tr th {\n",
              "        vertical-align: top;\n",
              "    }\n",
              "\n",
              "    .dataframe thead th {\n",
              "        text-align: right;\n",
              "    }\n",
              "</style>\n",
              "<table border=\"1\" class=\"dataframe\">\n",
              "  <thead>\n",
              "    <tr style=\"text-align: right;\">\n",
              "      <th></th>\n",
              "      <th>mean</th>\n",
              "    </tr>\n",
              "    <tr>\n",
              "      <th>author</th>\n",
              "      <th></th>\n",
              "    </tr>\n",
              "  </thead>\n",
              "  <tbody>\n",
              "    <tr>\n",
              "      <th>Haruki Murakami</th>\n",
              "      <td>30.083366</td>\n",
              "    </tr>\n",
              "    <tr>\n",
              "      <th>Neal Stephenson</th>\n",
              "      <td>29.950000</td>\n",
              "    </tr>\n",
              "    <tr>\n",
              "      <th>Pat Conroy</th>\n",
              "      <td>29.950000</td>\n",
              "    </tr>\n",
              "    <tr>\n",
              "      <th>Dan Brown</th>\n",
              "      <td>29.618996</td>\n",
              "    </tr>\n",
              "    <tr>\n",
              "      <th>Wally Lamb</th>\n",
              "      <td>29.416715</td>\n",
              "    </tr>\n",
              "  </tbody>\n",
              "</table>\n",
              "</div>"
            ],
            "text/plain": [
              "                      mean\n",
              "author                    \n",
              "Haruki Murakami  30.083366\n",
              "Neal Stephenson  29.950000\n",
              "Pat Conroy       29.950000\n",
              "Dan Brown        29.618996\n",
              "Wally Lamb       29.416715"
            ]
          },
          "execution_count": 21,
          "metadata": {},
          "output_type": "execute_result"
        }
      ],
      "source": [
        "df_sort=df_group.sort_values(by=['mean'],ascending=False)\n",
        "df_sort.head(5)"
      ]
    },
    {
      "cell_type": "code",
      "execution_count": null,
      "metadata": {
        "id": "F8Os4DuzWk_n"
      },
      "outputs": [],
      "source": []
    }
  ],
  "metadata": {
    "colab": {
      "provenance": []
    },
    "kernelspec": {
      "display_name": "base",
      "language": "python",
      "name": "python3"
    },
    "language_info": {
      "codemirror_mode": {
        "name": "ipython",
        "version": 3
      },
      "file_extension": ".py",
      "mimetype": "text/x-python",
      "name": "python",
      "nbconvert_exporter": "python",
      "pygments_lexer": "ipython3",
      "version": "3.9.12"
    },
    "vscode": {
      "interpreter": {
        "hash": "20a9e06a1eee47c4abbed4ec8225ad91d78d9800d202b71b6b0a6e47016c6abd"
      }
    }
  },
  "nbformat": 4,
  "nbformat_minor": 0
}
